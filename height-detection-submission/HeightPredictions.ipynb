{
 "cells": [
  {
   "cell_type": "code",
   "execution_count": 1,
   "metadata": {},
   "outputs": [],
   "source": [
    "import pandas as pd\n",
    "import numpy as np\n",
    "\n",
    "from tqdm import tqdm\n",
    "from sklearn.model_selection import train_test_split\n",
    "from sklearn.metrics import r2_score, mean_absolute_error, mean_squared_error\n",
    "from sklearn.linear_model import LinearRegression\n",
    "from sklearn.ensemble import RandomForestRegressor\n",
    "from sklearn.preprocessing import PolynomialFeatures"
   ]
  },
  {
   "cell_type": "code",
   "execution_count": 2,
   "metadata": {},
   "outputs": [
    {
     "name": "stdout",
     "output_type": "stream",
     "text": [
      "      IMAGE  Y_min  X_min  Y_max  X_max  EarHt (inches)\n",
      "0  GOPR0388    350    623    519    797              39\n",
      "1  GOPR0388    364    440    688    588              39\n",
      "2  GOPR0388    325   1576    653   1678              39\n",
      "3  GOPR0388      8   1670    426   1903              39\n",
      "4  GOPR0388    140   1680    458   1780              39\n",
      "      IMAGE  Y_min  X_min  Y_max  X_max\n",
      "0  GOPR0457    295   1390    722   1536\n",
      "1  GOPR0457    561    214    998    505\n",
      "2  GOPR0458    546   1218    844   1322\n",
      "3  GOPR0459    347   1712    549   1822\n",
      "4  GOPR0459    470    177    652    293\n"
     ]
    }
   ],
   "source": [
    "training_data = pd.read_csv('Boundingbox_Coordinates.csv')\n",
    "testing_data = pd.read_csv('submission.csv')\n",
    "print(training_data.head())\n",
    "print(testing_data.head())"
   ]
  },
  {
   "cell_type": "code",
   "execution_count": 3,
   "metadata": {},
   "outputs": [
    {
     "name": "stderr",
     "output_type": "stream",
     "text": [
      "100%|███████████████████████████████████████████████████████████████████████████████| 451/451 [00:00<00:00, 858.08it/s]\n"
     ]
    }
   ],
   "source": [
    "area = []\n",
    "for i in tqdm(range(len(training_data))):\n",
    "    area.append((int(training_data.iloc[i][3])-int(training_data.iloc[i][1]))*(int(training_data.iloc[i][4])-int(training_data.iloc[i][2])))\n",
    "training_data['area'] = area"
   ]
  },
  {
   "cell_type": "code",
   "execution_count": 4,
   "metadata": {},
   "outputs": [
    {
     "name": "stderr",
     "output_type": "stream",
     "text": [
      "100%|███████████████████████████████████████████████████████████████████████████████| 102/102 [00:00<00:00, 929.75it/s]\n"
     ]
    }
   ],
   "source": [
    "area = []\n",
    "for i in tqdm(range(len(testing_data))):\n",
    "    area.append((int(testing_data.iloc[i][3])-int(testing_data.iloc[i][1]))*(int(testing_data.iloc[i][4])-int(testing_data.iloc[i][2])))\n",
    "testing_data['area'] = area"
   ]
  },
  {
   "cell_type": "code",
   "execution_count": 5,
   "metadata": {},
   "outputs": [],
   "source": [
    "training_y = training_data.iloc[:,5]\n",
    "training_data = training_data.drop(columns='EarHt (inches)')\n",
    "training_x = training_data.iloc[:,1:6]\n",
    "testing_x = testing_data.iloc[:,1:6]"
   ]
  },
  {
   "cell_type": "code",
   "execution_count": 6,
   "metadata": {},
   "outputs": [
    {
     "data": {
      "text/plain": [
       "\"\\npoly = PolynomialFeatures(degree=1)\\nX_train = poly.fit_transform(X_train)\\nX_test = poly.fit_transform(X_test)\\ntesting_x = poly.fit_transform(testing_x)\\ntraining_x = poly.fit_transform(training_x)\\n\\ny_train = np.array(y_train).astype('int32')\\ny_test = np.array(y_test).astype('int32')\\n\\n\\n\\nX_train = np.array(X_train).astype('int32')\\nX_test = np.array(X_test).astype('int32')\\ntesting_x = np.array(testing_x).astype('int32')\\ntraining_x = np.array(training_x).astype('int32')\\n\""
      ]
     },
     "execution_count": 6,
     "metadata": {},
     "output_type": "execute_result"
    }
   ],
   "source": [
    "X_train, X_test, y_train, y_test = train_test_split(training_x, training_y, test_size=0.05, shuffle=False)\n",
    "\n",
    "'''\n",
    "poly = PolynomialFeatures(degree=1)\n",
    "X_train = poly.fit_transform(X_train)\n",
    "X_test = poly.fit_transform(X_test)\n",
    "testing_x = poly.fit_transform(testing_x)\n",
    "training_x = poly.fit_transform(training_x)\n",
    "\n",
    "y_train = np.array(y_train).astype('int32')\n",
    "y_test = np.array(y_test).astype('int32')\n",
    "\n",
    "\n",
    "\n",
    "X_train = np.array(X_train).astype('int32')\n",
    "X_test = np.array(X_test).astype('int32')\n",
    "testing_x = np.array(testing_x).astype('int32')\n",
    "training_x = np.array(training_x).astype('int32')\n",
    "'''"
   ]
  },
  {
   "cell_type": "code",
   "execution_count": 7,
   "metadata": {},
   "outputs": [
    {
     "name": "stdout",
     "output_type": "stream",
     "text": [
      "0.09404800031358151\n",
      "3.2243618729575587\n",
      "12.83403456644616\n",
      "428    44\n",
      "429    44\n",
      "430    44\n",
      "431    44\n",
      "432    44\n",
      "433    36\n",
      "434    36\n",
      "435    36\n",
      "436    36\n",
      "437    36\n",
      "438    36\n",
      "439    43\n",
      "440    43\n",
      "441    43\n",
      "442    43\n",
      "443    43\n",
      "444    46\n",
      "445    46\n",
      "446    46\n",
      "447    38\n",
      "448    38\n",
      "449    38\n",
      "450    38\n",
      "Name: EarHt (inches), dtype: int64 0     40.502255\n",
      "1     40.327896\n",
      "2     41.113101\n",
      "3     42.145989\n",
      "4     41.143720\n",
      "5     41.186832\n",
      "6     41.303797\n",
      "7     41.024270\n",
      "8     41.692689\n",
      "9     40.153397\n",
      "10    40.585522\n",
      "11    43.710187\n",
      "12    42.166653\n",
      "13    42.098105\n",
      "14    42.521431\n",
      "15    41.850039\n",
      "16    43.249532\n",
      "17    41.270360\n",
      "18    41.707463\n",
      "19    41.355719\n",
      "20    41.680880\n",
      "21    40.895109\n",
      "22    41.668466\n",
      "dtype: float64\n"
     ]
    }
   ],
   "source": [
    "linear_model = LinearRegression()\n",
    "linear_model.fit(X_train, y_train)\n",
    "predictions1 = linear_model.predict(X_test)\n",
    "print(r2_score(y_test, predictions1))\n",
    "print(mean_absolute_error(y_test, predictions1))\n",
    "print(mean_squared_error(y_test,predictions1))\n",
    "print(y_test, pd.Series(predictions1))"
   ]
  },
  {
   "cell_type": "code",
   "execution_count": 8,
   "metadata": {},
   "outputs": [
    {
     "name": "stderr",
     "output_type": "stream",
     "text": [
      "d:\\programs\\python installed\\lib\\site-packages\\sklearn\\ensemble\\forest.py:246: FutureWarning: The default value of n_estimators will change from 10 in version 0.20 to 100 in 0.22.\n",
      "  \"10 in version 0.20 to 100 in 0.22.\", FutureWarning)\n"
     ]
    },
    {
     "name": "stdout",
     "output_type": "stream",
     "text": [
      "-0.07437683480117419\n",
      "3.3043478260869565\n",
      "15.219999999999997\n",
      "428    44\n",
      "429    44\n",
      "430    44\n",
      "431    44\n",
      "432    44\n",
      "433    36\n",
      "434    36\n",
      "435    36\n",
      "436    36\n",
      "437    36\n",
      "438    36\n",
      "439    43\n",
      "440    43\n",
      "441    43\n",
      "442    43\n",
      "443    43\n",
      "444    46\n",
      "445    46\n",
      "446    46\n",
      "447    38\n",
      "448    38\n",
      "449    38\n",
      "450    38\n",
      "Name: EarHt (inches), dtype: int64 0     39.8\n",
      "1     39.3\n",
      "2     43.5\n",
      "3     42.0\n",
      "4     45.0\n",
      "5     40.4\n",
      "6     44.8\n",
      "7     42.3\n",
      "8     39.9\n",
      "9     40.0\n",
      "10    41.1\n",
      "11    43.9\n",
      "12    40.2\n",
      "13    43.0\n",
      "14    41.8\n",
      "15    40.9\n",
      "16    44.7\n",
      "17    43.2\n",
      "18    41.4\n",
      "19    43.4\n",
      "20    40.6\n",
      "21    40.5\n",
      "22    42.9\n",
      "dtype: float64\n"
     ]
    }
   ],
   "source": [
    "random_forest = RandomForestRegressor()\n",
    "random_forest.fit(X_train, y_train)\n",
    "predictions2 = random_forest.predict(X_test)\n",
    "print(r2_score(y_test, predictions2))\n",
    "print(mean_absolute_error(y_test, predictions2))\n",
    "print(mean_squared_error(y_test,predictions2))\n",
    "print(y_test, pd.Series(predictions2))"
   ]
  },
  {
   "cell_type": "code",
   "execution_count": 9,
   "metadata": {},
   "outputs": [
    {
     "name": "stdout",
     "output_type": "stream",
     "text": [
      "-0.07437683480117419\n",
      "3.208868856699978\n",
      "15.219999999999997\n",
      "428    44\n",
      "429    44\n",
      "430    44\n",
      "431    44\n",
      "432    44\n",
      "433    36\n",
      "434    36\n",
      "435    36\n",
      "436    36\n",
      "437    36\n",
      "438    36\n",
      "439    43\n",
      "440    43\n",
      "441    43\n",
      "442    43\n",
      "443    43\n",
      "444    46\n",
      "445    46\n",
      "446    46\n",
      "447    38\n",
      "448    38\n",
      "449    38\n",
      "450    38\n",
      "Name: EarHt (inches), dtype: int64 0     39.8\n",
      "1     39.3\n",
      "2     43.5\n",
      "3     42.0\n",
      "4     45.0\n",
      "5     40.4\n",
      "6     44.8\n",
      "7     42.3\n",
      "8     39.9\n",
      "9     40.0\n",
      "10    41.1\n",
      "11    43.9\n",
      "12    40.2\n",
      "13    43.0\n",
      "14    41.8\n",
      "15    40.9\n",
      "16    44.7\n",
      "17    43.2\n",
      "18    41.4\n",
      "19    43.4\n",
      "20    40.6\n",
      "21    40.5\n",
      "22    42.9\n",
      "dtype: float64\n"
     ]
    }
   ],
   "source": [
    "from sklearn.ensemble import GradientBoostingRegressor\n",
    "gradient_boost = GradientBoostingRegressor()\n",
    "gradient_boost.fit(X_train, y_train)\n",
    "predictions3 = gradient_boost.predict(X_test)\n",
    "print(r2_score(y_test, predictions2))\n",
    "print(mean_absolute_error(y_test, predictions3))\n",
    "print(mean_squared_error(y_test,predictions2))\n",
    "print(y_test, pd.Series(predictions2))"
   ]
  },
  {
   "cell_type": "code",
   "execution_count": 10,
   "metadata": {},
   "outputs": [],
   "source": [
    "final_predictions = linear_model.predict(training_x)\n",
    "training_data['Actual_label'] = training_y\n",
    "training_data['prediction'] = final_predictions\n",
    "\n",
    "final_predictions = linear_model.predict(testing_x)\n",
    "testing_data['prediction'] = final_predictions"
   ]
  },
  {
   "cell_type": "code",
   "execution_count": 13,
   "metadata": {},
   "outputs": [
    {
     "name": "stderr",
     "output_type": "stream",
     "text": [
      "100%|█████████████████████████████████████████████████████████████████████████████████| 95/95 [00:00<00:00, 305.30it/s]\n",
      "100%|█████████████████████████████████████████████████████████████████████████████████| 95/95 [00:00<00:00, 301.44it/s]\n"
     ]
    }
   ],
   "source": [
    "video_label = pd.read_csv('video_labels.csv')\n",
    "avg = []\n",
    "for i in tqdm(range(len(video_label))):\n",
    "    val = training_data.loc[training_data['IMAGE']==video_label.iloc[i][0]]\n",
    "    if val.empty!=True:\n",
    "        avg.append(int(round(val['prediction'].mean())))\n",
    "    else:\n",
    "        pass\n",
    "        \n",
    "for i in tqdm(range(len(video_label))):\n",
    "    val = testing_data.loc[testing_data['IMAGE']==video_label.iloc[i][0]]\n",
    "    if val.empty!=True:\n",
    "        avg.append(int(round(val['prediction'].mean())))\n",
    "    elif video_label.iloc[i][0]=='GOPR0485':\n",
    "        avg.append(0)\n",
    "video_label['predicted'] = avg\n",
    "video_label.to_csv('final_prediction.csv',index=False)"
   ]
  },
  {
   "cell_type": "code",
   "execution_count": null,
   "metadata": {},
   "outputs": [],
   "source": []
  },
  {
   "cell_type": "code",
   "execution_count": null,
   "metadata": {},
   "outputs": [],
   "source": []
  },
  {
   "cell_type": "code",
   "execution_count": null,
   "metadata": {},
   "outputs": [],
   "source": []
  }
 ],
 "metadata": {
  "kernelspec": {
   "display_name": "Python 3",
   "language": "python",
   "name": "python3"
  },
  "language_info": {
   "codemirror_mode": {
    "name": "ipython",
    "version": 3
   },
   "file_extension": ".py",
   "mimetype": "text/x-python",
   "name": "python",
   "nbconvert_exporter": "python",
   "pygments_lexer": "ipython3",
   "version": "3.6.6"
  }
 },
 "nbformat": 4,
 "nbformat_minor": 2
}
