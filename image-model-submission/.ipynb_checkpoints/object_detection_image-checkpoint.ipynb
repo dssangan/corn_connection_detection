{
 "cells": [
  {
   "cell_type": "code",
   "execution_count": 1,
   "metadata": {
    "ExecuteTime": {
     "end_time": "2019-11-24T20:37:56.866006Z",
     "start_time": "2019-11-24T20:37:55.894400Z"
    }
   },
   "outputs": [],
   "source": [
    "import os\n",
    "import cv2\n",
    "import numpy as np\n",
    "import tensorflow as tf\n",
    "import sys\n",
    "\n",
    "# Import utilites\n",
    "from utils import label_map_util\n",
    "from utils import visualization_utils as vis_util"
   ]
  },
  {
   "cell_type": "code",
   "execution_count": 10,
   "metadata": {
    "ExecuteTime": {
     "end_time": "2019-11-24T20:38:30.245071Z",
     "start_time": "2019-11-24T20:38:30.232781Z"
    }
   },
   "outputs": [],
   "source": [
    "# Name of the directory containing the object detection module we're using\n",
    "MODEL_NAME = 'inference'\n",
    "\n",
    "# The filename of the image to be used for object detection\n",
    "# Change this filename in order to run an image through the detector\n",
    "IMAGE_NAME = 'image.jpg'"
   ]
  },
  {
   "cell_type": "code",
   "execution_count": 3,
   "metadata": {
    "ExecuteTime": {
     "end_time": "2019-11-24T20:37:59.268328Z",
     "start_time": "2019-11-24T20:37:59.251630Z"
    }
   },
   "outputs": [],
   "source": [
    "# Grab path to current working directory\n",
    "CWD_PATH = os.getcwd()\n",
    "\n",
    "# Path to frozen detection graph .pb file, which contains the model that is used\n",
    "# for object detection.\n",
    "PATH_TO_CKPT = os.path.join(CWD_PATH,MODEL_NAME,'frozen_inference_graph.pb')\n",
    "\n",
    "# Path to label map file\n",
    "PATH_TO_LABELS = os.path.join(CWD_PATH,'training','labelmap.pbtxt')\n",
    "\n",
    "# Path to image\n",
    "PATH_TO_IMAGE = os.path.join(CWD_PATH,IMAGE_NAME)\n",
    "\n",
    "# Number of classes the object detector can identify\n",
    "NUM_CLASSES = 1"
   ]
  },
  {
   "cell_type": "code",
   "execution_count": 4,
   "metadata": {
    "ExecuteTime": {
     "end_time": "2019-11-24T20:37:59.714395Z",
     "start_time": "2019-11-24T20:37:59.705063Z"
    }
   },
   "outputs": [
    {
     "name": "stderr",
     "output_type": "stream",
     "text": [
      "WARNING: Logging before flag parsing goes to stderr.\n",
      "W1124 15:37:59.708429 140116667336512 deprecation_wrapper.py:119] From /home/trent/Projects/489/corn_connection_detection/image-model-submission/utils/label_map_util.py:137: The name tf.gfile.GFile is deprecated. Please use tf.io.gfile.GFile instead.\n",
      "\n"
     ]
    }
   ],
   "source": [
    "# Load the label map.\n",
    "# Label maps map indices to category names, so that when our convolution\n",
    "# network predicts `5`, we know that this corresponds to `king`.\n",
    "# Here we use internal utility functions, but anything that returns a\n",
    "# dictionary mapping integers to appropriate string labels would be fine\n",
    "label_map = label_map_util.load_labelmap(PATH_TO_LABELS)\n",
    "categories = label_map_util.convert_label_map_to_categories(label_map, max_num_classes=NUM_CLASSES, use_display_name=True)\n",
    "category_index = label_map_util.create_category_index(categories)"
   ]
  },
  {
   "cell_type": "code",
   "execution_count": 5,
   "metadata": {
    "ExecuteTime": {
     "end_time": "2019-11-24T20:38:00.865727Z",
     "start_time": "2019-11-24T20:38:00.202071Z"
    }
   },
   "outputs": [],
   "source": [
    "# Load the Tensorflow model into memory.\n",
    "detection_graph = tf.Graph()\n",
    "with detection_graph.as_default():\n",
    "    od_graph_def = tf.GraphDef()\n",
    "    with tf.gfile.GFile(PATH_TO_CKPT, 'rb') as fid:\n",
    "        serialized_graph = fid.read()\n",
    "        od_graph_def.ParseFromString(serialized_graph)\n",
    "        tf.import_graph_def(od_graph_def, name='')\n",
    "\n",
    "    sess = tf.Session(graph=detection_graph)"
   ]
  },
  {
   "cell_type": "code",
   "execution_count": 6,
   "metadata": {
    "ExecuteTime": {
     "end_time": "2019-11-24T20:38:01.977448Z",
     "start_time": "2019-11-24T20:38:01.950578Z"
    }
   },
   "outputs": [],
   "source": [
    "# Define input and output tensors (i.e. data) for the object detection classifier\n",
    "\n",
    "# Input tensor is the image\n",
    "image_tensor = detection_graph.get_tensor_by_name('image_tensor:0')\n",
    "\n",
    "# Output tensors are the detection boxes, scores, and classes\n",
    "# Each box represents a part of the image where a particular object was detected\n",
    "detection_boxes = detection_graph.get_tensor_by_name('detection_boxes:0')\n",
    "\n",
    "# Each score represents level of confidence for each of the objects.\n",
    "# The score is shown on the result image, together with the class label.\n",
    "detection_scores = detection_graph.get_tensor_by_name('detection_scores:0')\n",
    "detection_classes = detection_graph.get_tensor_by_name('detection_classes:0')\n",
    "\n",
    "# Number of objects detected\n",
    "num_detections = detection_graph.get_tensor_by_name('num_detections:0')\n",
    "\n",
    "# Load image using OpenCV and\n",
    "# expand image dimensions to have shape: [1, None, None, 3]\n",
    "# i.e. a single-column array, where each item in the column has the pixel RGB value\n",
    "image = cv2.imread(PATH_TO_IMAGE)\n",
    "image_expanded = np.expand_dims(image, axis=0)"
   ]
  },
  {
   "cell_type": "code",
   "execution_count": 7,
   "metadata": {
    "ExecuteTime": {
     "end_time": "2019-11-24T20:38:06.800421Z",
     "start_time": "2019-11-24T20:38:03.025881Z"
    }
   },
   "outputs": [],
   "source": [
    "# Perform the actual detection by running the model with the image as input\n",
    "(boxes, scores, classes, num) = sess.run(\n",
    "    [detection_boxes, detection_scores, detection_classes, num_detections],\n",
    "    feed_dict={image_tensor: image_expanded})"
   ]
  },
  {
   "cell_type": "code",
   "execution_count": 8,
   "metadata": {
    "ExecuteTime": {
     "end_time": "2019-11-24T20:38:07.796069Z",
     "start_time": "2019-11-24T20:38:07.753489Z"
    }
   },
   "outputs": [
    {
     "data": {
      "text/plain": [
       "array([[[179, 210, 213],\n",
       "        [148, 181, 184],\n",
       "        [134, 167, 170],\n",
       "        ...,\n",
       "        [252, 237, 198],\n",
       "        [253, 238, 199],\n",
       "        [252, 237, 198]],\n",
       "\n",
       "       [[178, 209, 212],\n",
       "        [149, 182, 185],\n",
       "        [132, 165, 168],\n",
       "        ...,\n",
       "        [252, 237, 198],\n",
       "        [252, 237, 198],\n",
       "        [252, 237, 198]],\n",
       "\n",
       "       [[179, 210, 213],\n",
       "        [153, 186, 189],\n",
       "        [133, 166, 169],\n",
       "        ...,\n",
       "        [251, 236, 197],\n",
       "        [252, 237, 198],\n",
       "        [253, 238, 199]],\n",
       "\n",
       "       ...,\n",
       "\n",
       "       [[ 76, 160, 186],\n",
       "        [ 73, 158, 184],\n",
       "        [ 72, 158, 182],\n",
       "        ...,\n",
       "        [ 36,  50,  69],\n",
       "        [ 37,  51,  69],\n",
       "        [ 37,  51,  69]],\n",
       "\n",
       "       [[ 81, 162, 189],\n",
       "        [ 77, 161, 187],\n",
       "        [ 73, 159, 183],\n",
       "        ...,\n",
       "        [ 37,  51,  70],\n",
       "        [ 38,  52,  71],\n",
       "        [ 38,  52,  71]],\n",
       "\n",
       "       [[ 83, 164, 191],\n",
       "        [ 79, 163, 189],\n",
       "        [ 76, 160, 185],\n",
       "        ...,\n",
       "        [ 37,  51,  70],\n",
       "        [ 39,  53,  72],\n",
       "        [ 39,  53,  72]]], dtype=uint8)"
      ]
     },
     "execution_count": 8,
     "metadata": {},
     "output_type": "execute_result"
    }
   ],
   "source": [
    "# Draw the results of the detection (aka 'visulaize the results')\n",
    "\n",
    "vis_util.visualize_boxes_and_labels_on_image_array(\n",
    "    image,\n",
    "    np.squeeze(boxes),\n",
    "    np.squeeze(classes).astype(np.int32),\n",
    "    np.squeeze(scores),\n",
    "    category_index,\n",
    "    use_normalized_coordinates=True,\n",
    "    line_thickness=8,\n",
    "    min_score_thresh=0.60)"
   ]
  },
  {
   "cell_type": "code",
   "execution_count": 9,
   "metadata": {
    "ExecuteTime": {
     "end_time": "2019-11-24T20:38:10.670607Z",
     "start_time": "2019-11-24T20:38:08.779954Z"
    }
   },
   "outputs": [],
   "source": [
    "# All the results have been drawn on image. Now display the image.\n",
    "cv2.imshow('Object detector', image)\n",
    "\n",
    "# Press any key to close the image\n",
    "cv2.waitKey(0)\n",
    "\n",
    "# Clean up\n",
    "cv2.destroyAllWindows()"
   ]
  },
  {
   "cell_type": "code",
   "execution_count": null,
   "metadata": {},
   "outputs": [],
   "source": []
  }
 ],
 "metadata": {
  "hide_input": false,
  "kernelspec": {
   "display_name": "Python (machine-learning)",
   "language": "python",
   "name": "machine-learning"
  },
  "language_info": {
   "codemirror_mode": {
    "name": "ipython",
    "version": 3
   },
   "file_extension": ".py",
   "mimetype": "text/x-python",
   "name": "python",
   "nbconvert_exporter": "python",
   "pygments_lexer": "ipython3",
   "version": "3.7.4"
  },
  "varInspector": {
   "cols": {
    "lenName": 16,
    "lenType": 16,
    "lenVar": 40
   },
   "kernels_config": {
    "python": {
     "delete_cmd_postfix": "",
     "delete_cmd_prefix": "del ",
     "library": "var_list.py",
     "varRefreshCmd": "print(var_dic_list())"
    },
    "r": {
     "delete_cmd_postfix": ") ",
     "delete_cmd_prefix": "rm(",
     "library": "var_list.r",
     "varRefreshCmd": "cat(var_dic_list()) "
    }
   },
   "types_to_exclude": [
    "module",
    "function",
    "builtin_function_or_method",
    "instance",
    "_Feature"
   ],
   "window_display": false
  }
 },
 "nbformat": 4,
 "nbformat_minor": 2
}
